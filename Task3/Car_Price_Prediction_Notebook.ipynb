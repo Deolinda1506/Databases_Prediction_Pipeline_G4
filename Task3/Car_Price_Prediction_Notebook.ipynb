{
  "nbformat": 4,
  "nbformat_minor": 0,
  "metadata": {
    "colab": {
      "provenance": [],
      "authorship_tag": "ABX9TyNm4jwvj0kSqwcCjz68k66d",
      "include_colab_link": true
    },
    "kernelspec": {
      "name": "python3",
      "display_name": "Python 3"
    },
    "language_info": {
      "name": "python"
    }
  },
  "cells": [
    {
      "cell_type": "markdown",
      "metadata": {
        "id": "view-in-github",
        "colab_type": "text"
      },
      "source": [
        "<a href=\"https://colab.research.google.com/github/Deolinda1506/Databases_Prediction_Pipeline_G4/blob/main/Task3/Car_Price_Prediction_Notebook.ipynb\" target=\"_parent\"><img src=\"https://colab.research.google.com/assets/colab-badge.svg\" alt=\"Open In Colab\"/></a>"
      ]
    },
    {
      "cell_type": "code",
      "execution_count": 3,
      "metadata": {
        "id": "n3J5SGdObel0"
      },
      "outputs": [],
      "source": [
        "\n",
        "# Task 3 - Predict Car Price Category with Random Forest\n",
        "\n",
        "import pandas as pd\n",
        "import numpy as np\n",
        "import matplotlib.pyplot as plt\n",
        "import seaborn as sns\n",
        "from sklearn.model_selection import train_test_split\n",
        "from sklearn.ensemble import RandomForestClassifier\n",
        "from sklearn.preprocessing import LabelEncoder\n",
        "from sklearn.metrics import classification_report, accuracy_score, confusion_matrix\n",
        "import pickle"
      ]
    },
    {
      "cell_type": "code",
      "source": [
        "from google.colab import drive\n",
        "drive.mount('/content/drive')\n",
        "\n",
        "file_path = '/content/drive/MyDrive/Automobile_data (1).csv'\n",
        "\n",
        "# Load the data\n",
        "data = pd.read_csv(file_path)\n",
        "\n",
        "# Display the first 10 rows\n",
        "print(data.head(10))\n",
        "\n"
      ],
      "metadata": {
        "colab": {
          "base_uri": "https://localhost:8080/"
        },
        "id": "AyuUxGxRbujS",
        "outputId": "c77a453c-39f5-4409-ffb4-5d6dd2d6115b"
      },
      "execution_count": 4,
      "outputs": [
        {
          "output_type": "stream",
          "name": "stdout",
          "text": [
            "Mounted at /content/drive\n",
            "   symboling normalized-losses         make fuel-type aspiration num-of-doors  \\\n",
            "0          3                 ?  alfa-romero       gas        std          two   \n",
            "1          3                 ?  alfa-romero       gas        std          two   \n",
            "2          1                 ?  alfa-romero       gas        std          two   \n",
            "3          2               164         audi       gas        std         four   \n",
            "4          2               164         audi       gas        std         four   \n",
            "5          2                 ?         audi       gas        std          two   \n",
            "6          1               158         audi       gas        std         four   \n",
            "7          1                 ?         audi       gas        std         four   \n",
            "8          1               158         audi       gas      turbo         four   \n",
            "9          0                 ?         audi       gas      turbo          two   \n",
            "\n",
            "    body-style drive-wheels engine-location  wheel-base  ...  engine-size  \\\n",
            "0  convertible          rwd           front        88.6  ...          130   \n",
            "1  convertible          rwd           front        88.6  ...          130   \n",
            "2    hatchback          rwd           front        94.5  ...          152   \n",
            "3        sedan          fwd           front        99.8  ...          109   \n",
            "4        sedan          4wd           front        99.4  ...          136   \n",
            "5        sedan          fwd           front        99.8  ...          136   \n",
            "6        sedan          fwd           front       105.8  ...          136   \n",
            "7        wagon          fwd           front       105.8  ...          136   \n",
            "8        sedan          fwd           front       105.8  ...          131   \n",
            "9    hatchback          4wd           front        99.5  ...          131   \n",
            "\n",
            "   fuel-system  bore  stroke compression-ratio horsepower  peak-rpm city-mpg  \\\n",
            "0         mpfi  3.47    2.68               9.0        111      5000       21   \n",
            "1         mpfi  3.47    2.68               9.0        111      5000       21   \n",
            "2         mpfi  2.68    3.47               9.0        154      5000       19   \n",
            "3         mpfi  3.19     3.4              10.0        102      5500       24   \n",
            "4         mpfi  3.19     3.4               8.0        115      5500       18   \n",
            "5         mpfi  3.19     3.4               8.5        110      5500       19   \n",
            "6         mpfi  3.19     3.4               8.5        110      5500       19   \n",
            "7         mpfi  3.19     3.4               8.5        110      5500       19   \n",
            "8         mpfi  3.13     3.4               8.3        140      5500       17   \n",
            "9         mpfi  3.13     3.4               7.0        160      5500       16   \n",
            "\n",
            "  highway-mpg  price  \n",
            "0          27  13495  \n",
            "1          27  16500  \n",
            "2          26  16500  \n",
            "3          30  13950  \n",
            "4          22  17450  \n",
            "5          25  15250  \n",
            "6          25  17710  \n",
            "7          25  18920  \n",
            "8          20  23875  \n",
            "9          22      ?  \n",
            "\n",
            "[10 rows x 26 columns]\n"
          ]
        }
      ]
    },
    {
      "cell_type": "code",
      "source": [
        "\n",
        "### Check for basic information about the data\n",
        "\n",
        "print(f'Number of rows: {data.shape[0]}')\n",
        "print(f'Number of columns: {data.shape[1]}')\n",
        "print(f'Data types: \\n{data.dtypes}')\n",
        "print(f'Descriptive statistics: \\n{data.describe()}')\n",
        "print(f'Unique values: \\n{data.nunique()}')\n",
        "print(f'Missing values: \\n{data.isnull().sum()}')\n",
        "print(f'Data Information: \\n{data.info()}')"
      ],
      "metadata": {
        "colab": {
          "base_uri": "https://localhost:8080/"
        },
        "id": "L0SFbomoeCH8",
        "outputId": "54a9a3f5-c5f6-4266-a24c-5ac3af04e6a7"
      },
      "execution_count": 5,
      "outputs": [
        {
          "output_type": "stream",
          "name": "stdout",
          "text": [
            "Number of rows: 205\n",
            "Number of columns: 26\n",
            "Data types: \n",
            "symboling              int64\n",
            "normalized-losses     object\n",
            "make                  object\n",
            "fuel-type             object\n",
            "aspiration            object\n",
            "num-of-doors          object\n",
            "body-style            object\n",
            "drive-wheels          object\n",
            "engine-location       object\n",
            "wheel-base           float64\n",
            "length               float64\n",
            "width                float64\n",
            "height               float64\n",
            "curb-weight            int64\n",
            "engine-type           object\n",
            "num-of-cylinders      object\n",
            "engine-size            int64\n",
            "fuel-system           object\n",
            "bore                  object\n",
            "stroke                object\n",
            "compression-ratio    float64\n",
            "horsepower            object\n",
            "peak-rpm              object\n",
            "city-mpg               int64\n",
            "highway-mpg            int64\n",
            "price                 object\n",
            "dtype: object\n",
            "Descriptive statistics: \n",
            "        symboling  wheel-base      length       width      height  \\\n",
            "count  205.000000  205.000000  205.000000  205.000000  205.000000   \n",
            "mean     0.834146   98.756585  174.049268   65.907805   53.724878   \n",
            "std      1.245307    6.021776   12.337289    2.145204    2.443522   \n",
            "min     -2.000000   86.600000  141.100000   60.300000   47.800000   \n",
            "25%      0.000000   94.500000  166.300000   64.100000   52.000000   \n",
            "50%      1.000000   97.000000  173.200000   65.500000   54.100000   \n",
            "75%      2.000000  102.400000  183.100000   66.900000   55.500000   \n",
            "max      3.000000  120.900000  208.100000   72.300000   59.800000   \n",
            "\n",
            "       curb-weight  engine-size  compression-ratio    city-mpg  highway-mpg  \n",
            "count   205.000000   205.000000         205.000000  205.000000   205.000000  \n",
            "mean   2555.565854   126.907317          10.142537   25.219512    30.751220  \n",
            "std     520.680204    41.642693           3.972040    6.542142     6.886443  \n",
            "min    1488.000000    61.000000           7.000000   13.000000    16.000000  \n",
            "25%    2145.000000    97.000000           8.600000   19.000000    25.000000  \n",
            "50%    2414.000000   120.000000           9.000000   24.000000    30.000000  \n",
            "75%    2935.000000   141.000000           9.400000   30.000000    34.000000  \n",
            "max    4066.000000   326.000000          23.000000   49.000000    54.000000  \n",
            "Unique values: \n",
            "symboling              6\n",
            "normalized-losses     52\n",
            "make                  22\n",
            "fuel-type              2\n",
            "aspiration             2\n",
            "num-of-doors           3\n",
            "body-style             5\n",
            "drive-wheels           3\n",
            "engine-location        2\n",
            "wheel-base            53\n",
            "length                75\n",
            "width                 44\n",
            "height                49\n",
            "curb-weight          171\n",
            "engine-type            7\n",
            "num-of-cylinders       7\n",
            "engine-size           44\n",
            "fuel-system            8\n",
            "bore                  39\n",
            "stroke                37\n",
            "compression-ratio     32\n",
            "horsepower            60\n",
            "peak-rpm              24\n",
            "city-mpg              29\n",
            "highway-mpg           30\n",
            "price                187\n",
            "dtype: int64\n",
            "Missing values: \n",
            "symboling            0\n",
            "normalized-losses    0\n",
            "make                 0\n",
            "fuel-type            0\n",
            "aspiration           0\n",
            "num-of-doors         0\n",
            "body-style           0\n",
            "drive-wheels         0\n",
            "engine-location      0\n",
            "wheel-base           0\n",
            "length               0\n",
            "width                0\n",
            "height               0\n",
            "curb-weight          0\n",
            "engine-type          0\n",
            "num-of-cylinders     0\n",
            "engine-size          0\n",
            "fuel-system          0\n",
            "bore                 0\n",
            "stroke               0\n",
            "compression-ratio    0\n",
            "horsepower           0\n",
            "peak-rpm             0\n",
            "city-mpg             0\n",
            "highway-mpg          0\n",
            "price                0\n",
            "dtype: int64\n",
            "<class 'pandas.core.frame.DataFrame'>\n",
            "RangeIndex: 205 entries, 0 to 204\n",
            "Data columns (total 26 columns):\n",
            " #   Column             Non-Null Count  Dtype  \n",
            "---  ------             --------------  -----  \n",
            " 0   symboling          205 non-null    int64  \n",
            " 1   normalized-losses  205 non-null    object \n",
            " 2   make               205 non-null    object \n",
            " 3   fuel-type          205 non-null    object \n",
            " 4   aspiration         205 non-null    object \n",
            " 5   num-of-doors       205 non-null    object \n",
            " 6   body-style         205 non-null    object \n",
            " 7   drive-wheels       205 non-null    object \n",
            " 8   engine-location    205 non-null    object \n",
            " 9   wheel-base         205 non-null    float64\n",
            " 10  length             205 non-null    float64\n",
            " 11  width              205 non-null    float64\n",
            " 12  height             205 non-null    float64\n",
            " 13  curb-weight        205 non-null    int64  \n",
            " 14  engine-type        205 non-null    object \n",
            " 15  num-of-cylinders   205 non-null    object \n",
            " 16  engine-size        205 non-null    int64  \n",
            " 17  fuel-system        205 non-null    object \n",
            " 18  bore               205 non-null    object \n",
            " 19  stroke             205 non-null    object \n",
            " 20  compression-ratio  205 non-null    float64\n",
            " 21  horsepower         205 non-null    object \n",
            " 22  peak-rpm           205 non-null    object \n",
            " 23  city-mpg           205 non-null    int64  \n",
            " 24  highway-mpg        205 non-null    int64  \n",
            " 25  price              205 non-null    object \n",
            "dtypes: float64(5), int64(5), object(16)\n",
            "memory usage: 41.8+ KB\n",
            "Data Information: \n",
            "None\n"
          ]
        }
      ]
    },
    {
      "cell_type": "code",
      "source": [
        "# Handle missing values\n",
        "# Replace '?' with NaN\n",
        "data.replace(\"?\", np.nan, inplace=True)\n",
        "\n",
        "# Convert relevant columns to numeric, coercing errors\n",
        "numerical_cols = ['normalized-losses', 'bore', 'stroke', 'horsepower', 'peak-rpm', 'price']\n",
        "for col in numerical_cols:\n",
        "    data[col] = pd.to_numeric(data[col], errors='coerce')\n",
        "\n",
        "# Impute numerical columns with the mean\n",
        "for col in numerical_cols:\n",
        "    if data[col].isnull().any():\n",
        "        mean_val = data[col].mean()\n",
        "        data[col].fillna(mean_val, inplace=True)\n",
        "\n",
        "# Impute categorical columns with the mode\n",
        "categorical_cols = ['num-of-doors']\n",
        "for col in categorical_cols:\n",
        "    if data[col].isnull().any():\n",
        "        mode_val = data[col].mode()[0]\n",
        "        data[col].fillna(mode_val, inplace=True)\n",
        "\n",
        "print(\"Missing values after imputation:\")\n",
        "print(data.isnull().sum())"
      ],
      "metadata": {
        "colab": {
          "base_uri": "https://localhost:8080/"
        },
        "id": "cDZSiTAKeNNb",
        "outputId": "dc69757b-7bf4-4eba-e0d2-d754cbb1ef1a"
      },
      "execution_count": 6,
      "outputs": [
        {
          "output_type": "stream",
          "name": "stdout",
          "text": [
            "Missing values after imputation:\n",
            "symboling            0\n",
            "normalized-losses    0\n",
            "make                 0\n",
            "fuel-type            0\n",
            "aspiration           0\n",
            "num-of-doors         0\n",
            "body-style           0\n",
            "drive-wheels         0\n",
            "engine-location      0\n",
            "wheel-base           0\n",
            "length               0\n",
            "width                0\n",
            "height               0\n",
            "curb-weight          0\n",
            "engine-type          0\n",
            "num-of-cylinders     0\n",
            "engine-size          0\n",
            "fuel-system          0\n",
            "bore                 0\n",
            "stroke               0\n",
            "compression-ratio    0\n",
            "horsepower           0\n",
            "peak-rpm             0\n",
            "city-mpg             0\n",
            "highway-mpg          0\n",
            "price                0\n",
            "dtype: int64\n"
          ]
        },
        {
          "output_type": "stream",
          "name": "stderr",
          "text": [
            "/tmp/ipython-input-6-2428670592.py:14: FutureWarning: A value is trying to be set on a copy of a DataFrame or Series through chained assignment using an inplace method.\n",
            "The behavior will change in pandas 3.0. This inplace method will never work because the intermediate object on which we are setting values always behaves as a copy.\n",
            "\n",
            "For example, when doing 'df[col].method(value, inplace=True)', try using 'df.method({col: value}, inplace=True)' or df[col] = df[col].method(value) instead, to perform the operation inplace on the original object.\n",
            "\n",
            "\n",
            "  data[col].fillna(mean_val, inplace=True)\n",
            "/tmp/ipython-input-6-2428670592.py:21: FutureWarning: A value is trying to be set on a copy of a DataFrame or Series through chained assignment using an inplace method.\n",
            "The behavior will change in pandas 3.0. This inplace method will never work because the intermediate object on which we are setting values always behaves as a copy.\n",
            "\n",
            "For example, when doing 'df[col].method(value, inplace=True)', try using 'df.method({col: value}, inplace=True)' or df[col] = df[col].method(value) instead, to perform the operation inplace on the original object.\n",
            "\n",
            "\n",
            "  data[col].fillna(mode_val, inplace=True)\n"
          ]
        }
      ]
    },
    {
      "cell_type": "code",
      "metadata": {
        "colab": {
          "base_uri": "https://localhost:8080/"
        },
        "id": "7e9c03a1",
        "outputId": "b28a03d3-5f75-4e8e-cb81-ea09156c4126"
      },
      "source": [
        "# Categorize the price into three categories: Low, Medium, High\n",
        "data['price_category'] = pd.qcut(data['price'], q=3, labels=['Low', 'Medium', 'High'])\n",
        "\n",
        "# Drop the original 'price' column\n",
        "data.drop('price', axis=1, inplace=True)\n",
        "\n",
        "print(data[['price_category']].head())"
      ],
      "execution_count": 7,
      "outputs": [
        {
          "output_type": "stream",
          "name": "stdout",
          "text": [
            "  price_category\n",
            "0         Medium\n",
            "1           High\n",
            "2           High\n",
            "3           High\n",
            "4           High\n"
          ]
        }
      ]
    },
    {
      "cell_type": "code",
      "metadata": {
        "colab": {
          "base_uri": "https://localhost:8080/"
        },
        "id": "79c8561c",
        "outputId": "77f019b4-8915-4eb2-aec9-2ae4f7578631"
      },
      "source": [
        "# Select features\n",
        "X = data.drop('price_category', axis=1)\n",
        "y = data['price_category']\n",
        "\n",
        "# Identify categorical and numerical features\n",
        "categorical_features = X.select_dtypes(include=['object']).columns\n",
        "numerical_features = X.select_dtypes(include=np.number).columns\n",
        "\n",
        "# One-hot encode categorical features\n",
        "X = pd.get_dummies(X, columns=categorical_features, drop_first=True)\n",
        "\n",
        "# Split data into training and testing sets\n",
        "X_train, X_test, y_train, y_test = train_test_split(X, y, test_size=0.2, random_state=42)\n",
        "\n",
        "print(\"Shape of X_train:\", X_train.shape)\n",
        "print(\"Shape of X_test:\", X_test.shape)\n",
        "print(\"Shape of y_train:\", y_train.shape)\n",
        "print(\"Shape of y_test:\", y_test.shape)"
      ],
      "execution_count": 8,
      "outputs": [
        {
          "output_type": "stream",
          "name": "stdout",
          "text": [
            "Shape of X_train: (164, 65)\n",
            "Shape of X_test: (41, 65)\n",
            "Shape of y_train: (164,)\n",
            "Shape of y_test: (41,)\n"
          ]
        }
      ]
    },
    {
      "cell_type": "code",
      "metadata": {
        "colab": {
          "base_uri": "https://localhost:8080/"
        },
        "id": "48baffc2",
        "outputId": "527f9ab1-845e-4d28-d2d4-01461532b574"
      },
      "source": [
        "# Build and Train the Random Forest model\n",
        "# Initialize the Random Forest Classifier\n",
        "model = RandomForestClassifier(n_estimators=100, random_state=42)\n",
        "\n",
        "# Train the model\n",
        "model.fit(X_train, y_train)\n",
        "\n",
        "print(\"Random Forest model trained successfully!\")"
      ],
      "execution_count": 9,
      "outputs": [
        {
          "output_type": "stream",
          "name": "stdout",
          "text": [
            "Random Forest model trained successfully!\n"
          ]
        }
      ]
    },
    {
      "cell_type": "code",
      "metadata": {
        "colab": {
          "base_uri": "https://localhost:8080/",
          "height": 824
        },
        "id": "9a48da8b",
        "outputId": "b5e28b2c-a62a-42bf-d022-2a61da8f5144"
      },
      "source": [
        "# Evaluate the model\n",
        "# Make predictions on the test set\n",
        "y_pred = model.predict(X_test)\n",
        "\n",
        "# Calculate accuracy\n",
        "accuracy = accuracy_score(y_test, y_pred)\n",
        "print(f\"Accuracy: {accuracy:.2f}\")\n",
        "\n",
        "# Display classification report\n",
        "print(\"\\nClassification Report:\")\n",
        "print(classification_report(y_test, y_pred))\n",
        "\n",
        "# Display confusion matrix\n",
        "print(\"\\nConfusion Matrix:\")\n",
        "cm = confusion_matrix(y_test, y_pred)\n",
        "plt.figure(figsize=(8, 6))\n",
        "sns.heatmap(cm, annot=True, fmt='d', cmap='Blues', xticklabels=['Low', 'Medium', 'High'], yticklabels=['Low', 'Medium', 'High'])\n",
        "plt.xlabel('Predicted')\n",
        "plt.ylabel('Actual')\n",
        "plt.title('Confusion Matrix')\n",
        "plt.show()"
      ],
      "execution_count": 27,
      "outputs": [
        {
          "output_type": "stream",
          "name": "stdout",
          "text": [
            "Accuracy: 0.76\n",
            "\n",
            "Classification Report:\n",
            "              precision    recall  f1-score   support\n",
            "\n",
            "        High       0.56      1.00      0.72         9\n",
            "         Low       0.88      0.93      0.90        15\n",
            "      Medium       0.89      0.47      0.62        17\n",
            "\n",
            "    accuracy                           0.76        41\n",
            "   macro avg       0.78      0.80      0.75        41\n",
            "weighted avg       0.81      0.76      0.74        41\n",
            "\n",
            "\n",
            "Confusion Matrix:\n"
          ]
        },
        {
          "output_type": "display_data",
          "data": {
            "text/plain": [
              "<Figure size 800x600 with 2 Axes>"
            ],
            "image/png": "[encoded data removed]"
          },
          "metadata": {}
        }
      ]
    },
    {
      "cell_type": "code",
      "metadata": {
        "id": "5205d77c"
      },
      "source": [
        "# Save the trained model to Google Drive\n",
        "pickle.dump(model, open('/content/drive/MyDrive/random_forest_car_price_model.pkl', 'wb'))\n",
        "\n",
        "print(\"Model saved to /content/drive/MyDrive/random_forest_car_price_model.pkl\")"
      ],
      "execution_count": null,
      "outputs": []
    }
  ]
}